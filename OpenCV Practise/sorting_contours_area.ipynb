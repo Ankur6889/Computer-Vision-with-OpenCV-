{
 "cells": [
  {
   "cell_type": "code",
   "execution_count": 1,
   "metadata": {},
   "outputs": [],
   "source": [
    "import numpy as np \n",
    "import cv2\n"
   ]
  },
  {
   "cell_type": "code",
   "execution_count": 2,
   "metadata": {},
   "outputs": [
    {
     "data": {
      "text/plain": [
       "-1"
      ]
     },
     "execution_count": 2,
     "metadata": {},
     "output_type": "execute_result"
    }
   ],
   "source": [
    "img=cv2.imread('images/bunchofshapes.jpg')\n",
    "cv2.imshow(\"Image\",img)\n",
    "cv2.waitKey()"
   ]
  },
  {
   "cell_type": "code",
   "execution_count": 3,
   "metadata": {},
   "outputs": [],
   "source": [
    "gray=cv2.cvtColor(img,cv2.COLOR_BGR2GRAY)\n",
    "edges=cv2.Canny(img,20,200)\n",
    "contours,hierarchy = cv2.findContours(edges,cv2.RETR_EXTERNAL,cv2.CHAIN_APPROX_NONE)\n",
    "for i in range(len(contours)):\n",
    "    cv2.drawContours(img,contours,i,(0,0,0),3)\n",
    "    cv2.imshow(\"Contoured\",img)\n",
    "    cv2.waitKey()"
   ]
  },
  {
   "cell_type": "code",
   "execution_count": 4,
   "metadata": {},
   "outputs": [
    {
     "data": {
      "text/plain": [
       "-1"
      ]
     },
     "execution_count": 4,
     "metadata": {},
     "output_type": "execute_result"
    }
   ],
   "source": [
    "# In this block we will plot all these contours but on a seperate black background and a white background \n",
    "\n",
    "black_background = np.zeros(img.shape[:2],dtype='uint8')\n",
    "cv2.imshow(\"Black Image\",black_background)\n",
    "cv2.waitKey()\n",
    "white_background = np.ones(img.shape[:2],dtype='uint8')*255\n",
    "cv2.imshow(\"White_background\",white_background)\n",
    "cv2.waitKey()\n",
    "cv2.drawContours(white_background,contours,-1,(0,255,0),3)\n",
    "cv2.imshow(\"Images_on_white\",white_background)\n",
    "cv2.waitKey()\n",
    "cv2.drawContours(black_background,contours,-1,(255,255,255),3)\n",
    "cv2.imshow(\"Images_on_black\",black_background)\n",
    "cv2.waitKey()"
   ]
  },
  {
   "cell_type": "code",
   "execution_count": 5,
   "metadata": {},
   "outputs": [
    {
     "name": "stdout",
     "output_type": "stream",
     "text": [
      "The area of 1 contour is 20587.5\n",
      "The area of 2 contour is 22901.5\n",
      "The area of 3 contour is 66579.5\n",
      "The area of 4 contour is 90222.0\n"
     ]
    }
   ],
   "source": [
    "#Sorting the contours now using their Area \n",
    "\n",
    "def get_contours_area(contours):\n",
    "    areas=[]\n",
    "    for i in contours:\n",
    "        area=cv2.contourArea(i)\n",
    "        areas.append(area)\n",
    "    return areas\n",
    "# the above functions is just for finding contour areas otherwise its not that useful , we can anyhow sort the contours by their area using the section below \n",
    "\n",
    "img=cv2.imread('images/bunchofshapes.jpg')\n",
    "gray= cv2.cvtColor(img,cv2.COLOR_BGR2GRAY)\n",
    "edges=cv2.Canny(gray,20,200)\n",
    "contours,hierarchy=cv2.findContours(edges,cv2.RETR_EXTERNAL,cv2.CHAIN_APPROX_SIMPLE)\n",
    "\n",
    "contour_areas=get_contours_area(contours)\n",
    "for i in range(len(contour_areas)):\n",
    "    print(f\"The area of {i+1} contour is {contour_areas[i]}\")\n",
    "   \n"
   ]
  },
  {
   "cell_type": "code",
   "execution_count": 6,
   "metadata": {},
   "outputs": [
    {
     "name": "stdout",
     "output_type": "stream",
     "text": [
      "The area of 1 contour is 90222.0\n",
      "The area of 2 contour is 66579.5\n",
      "The area of 3 contour is 22901.5\n",
      "The area of 4 contour is 20587.5\n"
     ]
    }
   ],
   "source": [
    "sorted_contours = sorted(contours,key=cv2.contourArea,reverse=True)\n",
    "\n",
    "sorted_contour_areas = get_contours_area(sorted_contours)\n",
    "for i in range(len(sorted_contour_areas)):\n",
    "    print(f\"The area of {i+1} contour is {sorted_contour_areas[i]}\")"
   ]
  },
  {
   "cell_type": "code",
   "execution_count": 7,
   "metadata": {},
   "outputs": [],
   "source": [
    "img_copy1 = img.copy()\n",
    "img_copy2 = img.copy()\n",
    "for i in range(len(contours)):\n",
    "    cv2.drawContours(img_copy1,contours,i,(0,0,0),3)\n",
    "    cv2.imshow(\"Drawing Contours\",img_copy1)\n",
    "    cv2.waitKey()"
   ]
  },
  {
   "cell_type": "code",
   "execution_count": 8,
   "metadata": {},
   "outputs": [],
   "source": [
    "for i in range(len(sorted_contours)):\n",
    "    cv2.drawContours(img_copy2,sorted_contours,i,(0,0,0),3)\n",
    "    cv2.imshow(\"Drawing Contours\",img_copy2)\n",
    "    cv2.waitKey()"
   ]
  },
  {
   "cell_type": "code",
   "execution_count": null,
   "metadata": {},
   "outputs": [],
   "source": []
  },
  {
   "cell_type": "code",
   "execution_count": null,
   "metadata": {},
   "outputs": [],
   "source": []
  },
  {
   "cell_type": "code",
   "execution_count": null,
   "metadata": {},
   "outputs": [],
   "source": []
  },
  {
   "cell_type": "code",
   "execution_count": null,
   "metadata": {},
   "outputs": [],
   "source": []
  }
 ],
 "metadata": {
  "kernelspec": {
   "display_name": "base",
   "language": "python",
   "name": "python3"
  },
  "language_info": {
   "codemirror_mode": {
    "name": "ipython",
    "version": 3
   },
   "file_extension": ".py",
   "mimetype": "text/x-python",
   "name": "python",
   "nbconvert_exporter": "python",
   "pygments_lexer": "ipython3",
   "version": "3.9.12"
  },
  "orig_nbformat": 4
 },
 "nbformat": 4,
 "nbformat_minor": 2
}
