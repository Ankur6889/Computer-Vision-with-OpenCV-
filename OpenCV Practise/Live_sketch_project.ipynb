{
 "cells": [
  {
   "cell_type": "code",
   "execution_count": 5,
   "metadata": {},
   "outputs": [],
   "source": [
    "import numpy as np \n",
    "import cv2"
   ]
  },
  {
   "cell_type": "code",
   "execution_count": 6,
   "metadata": {},
   "outputs": [],
   "source": [
    "def sketch_generator(img,filter,sen):\n",
    "    img_gray=cv2.cvtColor(img,cv2.COLOR_BGR2GRAY)\n",
    "    img_gray_blur=cv2.GaussianBlur(img_gray,(5,5),0)\n",
    "    edges=cv2.Canny(img_gray_blur,10,70)\n",
    "    ret,final_img = cv2.threshold(edges , 70,255,filter)\n",
    "    cv2.putText(final_img, sen, (75,75), cv2.FONT_HERSHEY_COMPLEX, 1, (100,170,0), 3)\n",
    "    return final_img"
   ]
  },
  {
   "cell_type": "code",
   "execution_count": 11,
   "metadata": {},
   "outputs": [],
   "source": [
    "cap=cv2.VideoCapture(0)\n",
    "count = 0\n",
    "detectors = [cv2.THRESH_BINARY , cv2.THRESH_OTSU , cv2.THRESH_BINARY_INV ,cv2.ADAPTIVE_THRESH_GAUSSIAN_C ]\n",
    "while True:\n",
    "    ret,frame = cap.read()\n",
    "    if count<100:\n",
    "        cv2.imshow('OpenCV Filters Demo',frame)\n",
    "        count=count+1\n",
    "        if cv2.waitKey(1)==13:\n",
    "            break\n",
    "    elif count < 150:\n",
    "        sen=\"Will now start applying filters \"\n",
    "        cv2.putText(frame, sen , (75,75), cv2.FONT_HERSHEY_COMPLEX, 1, (100,170,0), 3)\n",
    "        cv2.imshow('OpenCV Filters Demo',frame)\n",
    "        count=count+1\n",
    "        if cv2.waitKey(1)==13:\n",
    "            break\n",
    "    elif count <250:\n",
    "        sen=\"Applying Binary Threshold\"\n",
    "        fil=detectors[0]\n",
    "        cv2.imshow('OpenCV Filters Demo',sketch_generator(frame,fil,sen=sen))\n",
    "        count=count+1\n",
    "        if cv2.waitKey(1)==13:\n",
    "            break\n",
    "    elif count <350:\n",
    "        sen=\"Applying Adaptive Thresholding\"\n",
    "        \n",
    "        fil=detectors[3]\n",
    "        cv2.imshow('OpenCV Filters Demo',sketch_generator(frame,fil,sen=sen))\n",
    "        count=count+1\n",
    "        if cv2.waitKey(1)==13:\n",
    "            break\n",
    "    elif count <450:\n",
    "        sen=\"Applying Binary Inverse\"\n",
    "        fil=detectors[2]\n",
    "        cv2.imshow('OpenCV Filters Demo',sketch_generator(frame,fil,sen=sen))\n",
    "        count=count+1\n",
    "        if cv2.waitKey(1)==13:\n",
    "            break\n",
    "    elif count <550:\n",
    "        sen=\"Applying OTSU Threshold\"\n",
    "        fil=detectors[1]\n",
    "        cv2.imshow('OpenCV Filters Demo',sketch_generator(frame,fil,sen=sen))\n",
    "        count=count+1\n",
    "        if cv2.waitKey(1)==13:\n",
    "            break\n",
    "    else:\n",
    "        count=150\n",
    "cap.release()\n",
    "cv2.destroyAllWindows()"
   ]
  },
  {
   "cell_type": "code",
   "execution_count": null,
   "metadata": {},
   "outputs": [],
   "source": []
  },
  {
   "cell_type": "code",
   "execution_count": null,
   "metadata": {},
   "outputs": [],
   "source": []
  }
 ],
 "metadata": {
  "kernelspec": {
   "display_name": "base",
   "language": "python",
   "name": "python3"
  },
  "language_info": {
   "codemirror_mode": {
    "name": "ipython",
    "version": 3
   },
   "file_extension": ".py",
   "mimetype": "text/x-python",
   "name": "python",
   "nbconvert_exporter": "python",
   "pygments_lexer": "ipython3",
   "version": "3.9.12"
  },
  "orig_nbformat": 4
 },
 "nbformat": 4,
 "nbformat_minor": 2
}
