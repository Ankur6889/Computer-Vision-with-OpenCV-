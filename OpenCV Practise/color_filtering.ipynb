{
 "cells": [
  {
   "cell_type": "code",
   "execution_count": 2,
   "metadata": {},
   "outputs": [],
   "source": [
    "import numpy as np\n",
    "import cv2"
   ]
  },
  {
   "cell_type": "code",
   "execution_count": 3,
   "metadata": {},
   "outputs": [],
   "source": [
    "img=cv2.imread('images/input.jpg')\n",
    "cv2.imshow('image',img)\n",
    "cv2.waitKey()\n",
    "cv2.destroyAllWindows()"
   ]
  },
  {
   "cell_type": "code",
   "execution_count": 3,
   "metadata": {},
   "outputs": [
    {
     "data": {
      "text/plain": [
       "(415, 622, 3)"
      ]
     },
     "execution_count": 3,
     "metadata": {},
     "output_type": "execute_result"
    }
   ],
   "source": [
    "img.shape"
   ]
  },
  {
   "cell_type": "code",
   "execution_count": 7,
   "metadata": {},
   "outputs": [
    {
     "data": {
      "text/plain": [
       "numpy.ndarray"
      ]
     },
     "execution_count": 7,
     "metadata": {},
     "output_type": "execute_result"
    }
   ],
   "source": [
    "# an image is nothing but a 3-Dimensonal numpy array \n",
    "type(img)"
   ]
  },
  {
   "cell_type": "code",
   "execution_count": 6,
   "metadata": {},
   "outputs": [
    {
     "data": {
      "text/plain": [
       "array([[[12, 18, 31],\n",
       "        [12, 18, 31],\n",
       "        [12, 18, 31],\n",
       "        ...,\n",
       "        [21, 24, 38],\n",
       "        [21, 24, 38],\n",
       "        [21, 24, 38]],\n",
       "\n",
       "       [[12, 18, 31],\n",
       "        [12, 18, 31],\n",
       "        [12, 18, 31],\n",
       "        ...,\n",
       "        [21, 24, 38],\n",
       "        [21, 24, 38],\n",
       "        [21, 24, 38]],\n",
       "\n",
       "       [[12, 18, 31],\n",
       "        [12, 18, 31],\n",
       "        [12, 18, 31],\n",
       "        ...,\n",
       "        [21, 24, 38],\n",
       "        [21, 24, 38],\n",
       "        [20, 23, 37]],\n",
       "\n",
       "       ...,\n",
       "\n",
       "       [[ 4,  7, 11],\n",
       "        [ 3,  6, 10],\n",
       "        [ 3,  6, 10],\n",
       "        ...,\n",
       "        [20, 24, 42],\n",
       "        [22, 24, 42],\n",
       "        [21, 23, 41]],\n",
       "\n",
       "       [[ 3,  6, 10],\n",
       "        [ 3,  6, 10],\n",
       "        [ 3,  6, 10],\n",
       "        ...,\n",
       "        [21, 25, 43],\n",
       "        [22, 24, 42],\n",
       "        [22, 24, 42]],\n",
       "\n",
       "       [[ 2,  5,  9],\n",
       "        [ 2,  5,  9],\n",
       "        [ 2,  5,  9],\n",
       "        ...,\n",
       "        [19, 23, 41],\n",
       "        [20, 22, 40],\n",
       "        [20, 22, 40]]], dtype=uint8)"
      ]
     },
     "execution_count": 6,
     "metadata": {},
     "output_type": "execute_result"
    }
   ],
   "source": [
    "img"
   ]
  },
  {
   "cell_type": "code",
   "execution_count": 8,
   "metadata": {},
   "outputs": [],
   "source": [
    "# accessing any one of the color channels \n",
    "img_red = img[:,:,2]\n",
    "cv2.imshow('img_red',img_red)\n",
    "cv2.waitKey()\n",
    "cv2.destroyAllWindows()\n"
   ]
  },
  {
   "cell_type": "code",
   "execution_count": 4,
   "metadata": {},
   "outputs": [],
   "source": [
    "# as we see here if we access the image using this method we get a grayscale image so in order to get the red image what we actually have to do is \n",
    "img_actually_red = img.copy()\n",
    "img_actually_red[:,:,1]=0 # broadcasting blue channel as 0 \n",
    "img_actually_red[:,:,1]=0 # broadcasting green channel as 0 \n",
    "cv2.imshow(\"Red\",img_actually_red)\n",
    "cv2.waitKey()\n",
    "cv2.destroyAllWindows()"
   ]
  },
  {
   "cell_type": "code",
   "execution_count": 7,
   "metadata": {},
   "outputs": [
    {
     "name": "stdout",
     "output_type": "stream",
     "text": [
      "blue :12, green :17 , red :32\n"
     ]
    }
   ],
   "source": [
    "# to access the r , g , b value of one single pixel \n",
    "b,g,r=img[10,20]\n",
    "print(f\"blue :{b}, green :{g} , red :{r}\")"
   ]
  },
  {
   "cell_type": "code",
   "execution_count": 4,
   "metadata": {},
   "outputs": [],
   "source": [
    "# some other useful functions to keep in mind are cv2.split() and cv2.merge() and example of this use case is \n",
    "\n",
    "image=cv2.imread('images/input.jpg')\n",
    "r,g,b=cv2.split(image)\n",
    "cv2.imshow('red_channel',r)\n",
    "cv2.waitKey()\n",
    "cv2.destroyAllWindows()\n",
    "# important point to notice here is that the image was shown as a grayscale image as mentioned in previous case "
   ]
  },
  {
   "cell_type": "code",
   "execution_count": 5,
   "metadata": {},
   "outputs": [],
   "source": [
    "# now these seprate channels can be merged back by the use of cv2.merge() function \n",
    "new_img=cv2.merge([r,g,b])\n",
    "cv2.imshow(\"merged_image\",new_img)\n",
    "cv2.waitKey()\n",
    "cv2.destroyAllWindows()\n",
    "# but this can be used further in more interesting ways as shown below  \n",
    "blue_channel_removed = cv2.merge([(np.zeros(b.shape,dtype='uint8')),g,r])\n",
    "cv2.imshow(\"blue_removed\",blue_channel_removed)\n",
    "cv2.waitKey()\n",
    "cv2.destroyAllWindows()"
   ]
  },
  {
   "cell_type": "code",
   "execution_count": 15,
   "metadata": {},
   "outputs": [
    {
     "data": {
      "text/plain": [
       "(415, 622)"
      ]
     },
     "execution_count": 15,
     "metadata": {},
     "output_type": "execute_result"
    }
   ],
   "source": [
    "np.zeros"
   ]
  },
  {
   "cell_type": "code",
   "execution_count": null,
   "metadata": {},
   "outputs": [],
   "source": []
  }
 ],
 "metadata": {
  "kernelspec": {
   "display_name": "base",
   "language": "python",
   "name": "python3"
  },
  "language_info": {
   "codemirror_mode": {
    "name": "ipython",
    "version": 3
   },
   "file_extension": ".py",
   "mimetype": "text/x-python",
   "name": "python",
   "nbconvert_exporter": "python",
   "pygments_lexer": "ipython3",
   "version": "3.9.12"
  },
  "orig_nbformat": 4
 },
 "nbformat": 4,
 "nbformat_minor": 2
}
